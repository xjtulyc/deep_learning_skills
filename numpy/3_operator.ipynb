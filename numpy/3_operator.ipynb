{
 "cells": [
  {
   "attachments": {},
   "cell_type": "markdown",
   "metadata": {},
   "source": [
    "# 3. 算术运算"
   ]
  },
  {
   "cell_type": "code",
   "execution_count": 1,
   "metadata": {},
   "outputs": [],
   "source": [
    "import numpy as np"
   ]
  },
  {
   "attachments": {},
   "cell_type": "markdown",
   "metadata": {},
   "source": [
    "## 3.1. 对应元素相乘 / 逐元乘法 / Element Wise Product"
   ]
  },
  {
   "attachments": {},
   "cell_type": "markdown",
   "metadata": {},
   "source": [
    "```python\n",
    "numpy.multiply(x1, x2, /, out=None, *, where=True, casting='same_kind', order='K', dtype=None, subok=True[, signature, extobj]) = <ufunc 'multiply'>\n",
    "```\n",
    "\n",
    "Multiply arguments element-wise.\n",
    "\n",
    "**Parameters**:\n",
    "\n",
    "``x1, x2``: array_like\n",
    "输入要相乘的数组。如果形状不相等时，它们必须可广播到公共形状(这将成为输出的形状)。\n",
    "\n",
    "``out``: ndarray, None, or tuple of ndarray and None, optional\n",
    "存储结果的位置。如果提供，它必须具有输入广播到的形状。如果未提供或为None，则返回一个新分配的数组。元组(只能作为关键字参数)的长度必须等于输出的数量。\n",
    "\n",
    "``where``: array_like, optional\n",
    "这个条件在输入上广播。在条件为True的位置，out数组将被设置为ufunc的结果。在其他地方，out数组将保留其原始值。注意，如果通过默认的out=None创建一个未初始化的out数组，那么其中条件为False的位置将保持未初始化。\n",
    "\n",
    "``**kwargs``\n",
    "For other keyword-only arguments, see the ufunc docs.\n",
    "\n",
    "**Returns**:\n",
    "\n",
    "``yn``: darray\n",
    "x1和x2的乘积。如果x1和x2都是标量，这就是标量。"
   ]
  },
  {
   "cell_type": "code",
   "execution_count": 2,
   "metadata": {},
   "outputs": [
    {
     "name": "stdout",
     "output_type": "stream",
     "text": [
      "[[ 2  0]\n",
      " [-3 16]]\n",
      "[[ 2  0]\n",
      " [-3 16]]\n"
     ]
    }
   ],
   "source": [
    "A = np.array([[1, 2], [-1, 4]]) \n",
    "B = np.array([[2, 0], [3, 4]]) \n",
    "print(A*B) #结果如下： array([[ 2, 0], [-3, 16]]) \n",
    "#或另一种表示方法 \n",
    "\n",
    "print(np.multiply(A,B)) #运算结果也是 array([[ 2, 0], [-3, 16]])"
   ]
  },
  {
   "attachments": {},
   "cell_type": "markdown",
   "metadata": {},
   "source": [
    "## 3.2. 点积运算"
   ]
  },
  {
   "attachments": {},
   "cell_type": "markdown",
   "metadata": {},
   "source": [
    "点积运算（Dot Product）又称为内积，在Numpy用``np.dot``表示，其一般 格式为：\n",
    "\n",
    "```python\n",
    "numpy.dot(a, b, out=None)\n",
    "```"
   ]
  },
  {
   "cell_type": "code",
   "execution_count": 3,
   "metadata": {},
   "outputs": [
    {
     "name": "stdout",
     "output_type": "stream",
     "text": [
      "[[21 24 27]\n",
      " [47 54 61]]\n"
     ]
    }
   ],
   "source": [
    "X1=np.array([[1,2],[3,4]]) \n",
    "X2=np.array([[5,6,7],[8,9,10]]) \n",
    "X3=np.dot(X1,X2) \n",
    "print(X3)"
   ]
  }
 ],
 "metadata": {
  "kernelspec": {
   "display_name": "d",
   "language": "python",
   "name": "python3"
  },
  "language_info": {
   "codemirror_mode": {
    "name": "ipython",
    "version": 3
   },
   "file_extension": ".py",
   "mimetype": "text/x-python",
   "name": "python",
   "nbconvert_exporter": "python",
   "pygments_lexer": "ipython3",
   "version": "3.7.12"
  },
  "orig_nbformat": 4,
  "vscode": {
   "interpreter": {
    "hash": "e710dce77f62bef54a2664f133b2c2b99dc2d4720139c512b04a4c2db99b434f"
   }
  }
 },
 "nbformat": 4,
 "nbformat_minor": 2
}
