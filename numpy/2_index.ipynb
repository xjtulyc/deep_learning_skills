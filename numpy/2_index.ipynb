{
 "cells": [
  {
   "attachments": {},
   "cell_type": "markdown",
   "metadata": {},
   "source": [
    "# 2. numpy索引"
   ]
  },
  {
   "cell_type": "code",
   "execution_count": 2,
   "metadata": {},
   "outputs": [
    {
     "name": "stdout",
     "output_type": "stream",
     "text": [
      "0.6378774010222266\n",
      "[0.6378774  0.88049907 0.29917202]\n",
      "[0.39308051 0.6378774  0.29917202]\n",
      "[0.4057498  0.90320616 0.29917202 0.6378774  0.39308051]\n",
      "[[ 6  7]\n",
      " [11 12]]\n",
      "[4 5 6 7 8 9]\n",
      "[[ 5  6  7  8  9]\n",
      " [10 11 12 13 14]]\n",
      "[[ 1  2]\n",
      " [ 6  7]\n",
      " [11 12]\n",
      " [16 17]\n",
      " [21 22]]\n"
     ]
    }
   ],
   "source": [
    "import numpy as np \n",
    "np.random.seed(2019) \n",
    "nd11 = np.random.random([10]) #获取指定位置的数据，获取第4个元素 \n",
    "print(nd11[3]) #截取一段数据 \n",
    "print(nd11[3:6]) #截取固定间隔数据 \n",
    "print(nd11[1:6:2]) #倒序取数 \n",
    "print(nd11[::-2]) #截取一个多维数组的一个区域内数据 \n",
    "nd12=np.arange(25).reshape([5,5]) \n",
    "print(nd12[1:3,1:3]) #截取一个多维数组中，数值在一个值域之内的数据 \n",
    "print(nd12[(nd12>3)&(nd12<10)]) #截取多维数组中，指定的行,如读取第2,3行 \n",
    "print(nd12[[1,2]]) #或nd12[1:3,:] \n",
    "##截取多维数组中，指定的列,如读取第2,3列 \n",
    "print(nd12[:,1:3])"
   ]
  },
  {
   "attachments": {},
   "cell_type": "markdown",
   "metadata": {},
   "source": [
    "还可以通过函数实现对数组的索引"
   ]
  },
  {
   "cell_type": "code",
   "execution_count": 3,
   "metadata": {},
   "outputs": [
    {
     "name": "stdout",
     "output_type": "stream",
     "text": [
      "随机可重复抽取\n",
      "[[19.  6. 24. 22.]\n",
      " [21. 17. 16.  2.]\n",
      " [23. 15. 13. 11.]]\n",
      "随机但不重复抽取\n",
      "[[ 5. 14. 23. 15.]\n",
      " [ 8. 24.  6. 18.]\n",
      " [13. 10. 21. 11.]]\n",
      "随机但按制度概率抽取\n",
      "[[19. 21. 18. 11.]\n",
      " [10. 21. 23. 19.]\n",
      " [18. 19. 11. 20.]]\n"
     ]
    }
   ],
   "source": [
    "from numpy import random as nr \n",
    "a=np.arange(1,25,dtype=float) \n",
    "c1=nr.choice(a,size=(3,4)) #size指定输出数组形状 \n",
    "c2=nr.choice(a,size=(3,4),replace=False) #replace缺省为True，即可重复抽取。 \n",
    "#下式中参数p指定每个元素对应的抽取概率，缺省为每个元素被抽取的概率相同。 \n",
    "c3=nr.choice(a,size=(3,4),p=a / np.sum(a)) \n",
    "print(\"随机可重复抽取\") \n",
    "print(c1) \n",
    "print(\"随机但不重复抽取\") \n",
    "print(c2) \n",
    "print(\"随机但按权重概率抽取\") \n",
    "print(c3)"
   ]
  }
 ],
 "metadata": {
  "kernelspec": {
   "display_name": "d",
   "language": "python",
   "name": "python3"
  },
  "language_info": {
   "codemirror_mode": {
    "name": "ipython",
    "version": 3
   },
   "file_extension": ".py",
   "mimetype": "text/x-python",
   "name": "python",
   "nbconvert_exporter": "python",
   "pygments_lexer": "ipython3",
   "version": "3.7.12"
  },
  "orig_nbformat": 4,
  "vscode": {
   "interpreter": {
    "hash": "e710dce77f62bef54a2664f133b2c2b99dc2d4720139c512b04a4c2db99b434f"
   }
  }
 },
 "nbformat": 4,
 "nbformat_minor": 2
}
