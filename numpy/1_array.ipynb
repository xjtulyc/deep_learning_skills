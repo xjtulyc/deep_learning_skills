{
 "cells": [
  {
   "attachments": {},
   "cell_type": "markdown",
   "metadata": {},
   "source": [
    "# 1. Numpy数组\n"
   ]
  },
  {
   "attachments": {},
   "cell_type": "markdown",
   "metadata": {},
   "source": [
    "## 1.1. 从已有数据中创建数组"
   ]
  },
  {
   "cell_type": "code",
   "execution_count": 3,
   "metadata": {},
   "outputs": [],
   "source": [
    "import numpy as np"
   ]
  },
  {
   "attachments": {},
   "cell_type": "markdown",
   "metadata": {},
   "source": [
    "### 1.1.1. list $\\rightarrow$ ndarray"
   ]
  },
  {
   "cell_type": "code",
   "execution_count": 5,
   "metadata": {},
   "outputs": [
    {
     "name": "stdout",
     "output_type": "stream",
     "text": [
      "[0 1 2 3 4] <class 'numpy.ndarray'>\n",
      "[[ 0  1  2  3  4  5]\n",
      " [ 5  6  7  8  9 10]] <class 'numpy.ndarray'>\n"
     ]
    }
   ],
   "source": [
    "list_1 = [i for i in range(5)]\n",
    "ndarray_1 = np.array(list_1)\n",
    "print(ndarray_1, type(ndarray_1))\n",
    "\n",
    "list_2 = [[i for i in range(0, 6)], [i for i in range(5,11)]]\n",
    "ndarray_2 = np.array(list_2)\n",
    "print(ndarray_2, type(ndarray_2))"
   ]
  },
  {
   "attachments": {},
   "cell_type": "markdown",
   "metadata": {},
   "source": [
    "## 1.2. np.random"
   ]
  },
  {
   "attachments": {},
   "cell_type": "markdown",
   "metadata": {},
   "source": [
    "|函数|描述|\n",
    "|---|---|\n",
    "|`np.random.random`|生成0到1之间的随机数（均匀分布）|\n",
    "|`np.random.uniform`|生成均匀分布的随机数|\n",
    "|`np.random.randn`|生成标准正态分布的随机数|\n",
    "|`np.random.randint`|生成随机整数|\n",
    "|`np.random.normal`|生成正态分布|\n",
    "|`np.random.shuffle`|随机打乱顺序|\n",
    "|`np.random.seed`|设置随机数种子|\n",
    "|`random_sample`|生成随机的浮点数|"
   ]
  },
  {
   "cell_type": "code",
   "execution_count": 6,
   "metadata": {},
   "outputs": [
    {
     "name": "stdout",
     "output_type": "stream",
     "text": [
      "[[0.15555461 0.00823713 0.07603428]\n",
      " [0.74283921 0.92969568 0.77081494]\n",
      " [0.50193596 0.6742566  0.81565758]] (3, 3)\n",
      "[[ 1.11490901  1.1882115   1.41804512]\n",
      " [-0.36769038  0.24881411  0.38049812]]\n",
      "[[ 1.11490901  1.1882115   1.41804512]\n",
      " [-0.36769038  0.24881411  0.38049812]]\n",
      "<class 'numpy.ndarray'>\n"
     ]
    }
   ],
   "source": [
    "nd3 = np.random.random([3, 3])\n",
    "print(nd3, nd3.shape)\n",
    "\n",
    "# 为了每次生成同一份数据，可以指定一个随机种子，使用shuffle打乱生成的随机数\n",
    "np.random.seed(114514)\n",
    "nd4 = np.random.randn(2, 3)\n",
    "print(nd4)\n",
    "np.random.shuffle(nd4)\n",
    "print(nd4)\n",
    "print(type(nd4))"
   ]
  },
  {
   "attachments": {},
   "cell_type": "markdown",
   "metadata": {},
   "source": [
    "## 1.3. 创建特定形状的多维数组"
   ]
  },
  {
   "attachments": {},
   "cell_type": "markdown",
   "metadata": {},
   "source": [
    "|函数|描述|\n",
    "|---|---|\n",
    "|`np.zeros`|创建特定尺寸的全0数组|\n",
    "|`np.ones`|创建特定尺寸的全1数组|\n",
    "|`np.empty`|创建特定尺寸的数组（初值为垃圾值）|\n",
    "|`np.zeros_like`|创建相同维度的全0数组|\n",
    "|`np.ones_like`|创建相同维度的全1数组|\n",
    "|`np.empty_like`|创建相同维度的数组（初值为垃圾值）|\n",
    "|`np.eye`|创建一个特定尺寸的对角线数组|\n",
    "|`np.full`|创建一个特定尺寸的全初始化值数组|"
   ]
  },
  {
   "cell_type": "code",
   "execution_count": 9,
   "metadata": {},
   "outputs": [
    {
     "name": "stdout",
     "output_type": "stream",
     "text": [
      "[[0. 0. 0.]\n",
      " [0. 0. 0.]\n",
      " [0. 0. 0.]] \n",
      "\n",
      " [[1. 1. 1.]\n",
      " [1. 1. 1.]\n",
      " [1. 1. 1.]] \n",
      "\n",
      " [[1. 0. 0.]\n",
      " [0. 1. 0.]\n",
      " [0. 0. 1.]] \n",
      "\n",
      " [[1 0 0]\n",
      " [0 2 0]\n",
      " [0 0 3]]\n"
     ]
    }
   ],
   "source": [
    "nd5 = np.zeros((3, 3))\n",
    "nd6 = np.ones((3, 3))\n",
    "nd7 = np.eye(3)\n",
    "nd8 = np.diag([1, 2, 3])\n",
    "\n",
    "print(\"{} \\n\\n {} \\n\\n {} \\n\\n {}\".format(nd5, nd6, nd7, nd8))"
   ]
  },
  {
   "attachments": {},
   "cell_type": "markdown",
   "metadata": {},
   "source": [
    "## 1.4. arange / linspace"
   ]
  },
  {
   "attachments": {},
   "cell_type": "markdown",
   "metadata": {},
   "source": [
    "```python\n",
    "arange([start,] stop[,step,], dtype=None)\n",
    "np.linspace(start, stop, num=50, endpoint=True, retstep=False, dtype=None)\n",
    "```"
   ]
  },
  {
   "cell_type": "code",
   "execution_count": 11,
   "metadata": {},
   "outputs": [
    {
     "name": "stdout",
     "output_type": "stream",
     "text": [
      "[0 1 2 3 4 5 6 7 8 9] [0 1 2 3 4 5 6 7 8 9] [1.  1.5 2.  2.5 3.  3.5] [9 8 7 6 5 4 3 2 1 0]\n"
     ]
    }
   ],
   "source": [
    "print(np.arange(10), \\\n",
    "np.arange(0,10), \\\n",
    "np.arange(1,4,0.5), \\\n",
    "np.arange(9,-1,-1))"
   ]
  },
  {
   "cell_type": "code",
   "execution_count": 12,
   "metadata": {},
   "outputs": [
    {
     "name": "stdout",
     "output_type": "stream",
     "text": [
      "[0.         0.11111111 0.22222222 0.33333333 0.44444444 0.55555556\n",
      " 0.66666667 0.77777778 0.88888889 1.        ]\n"
     ]
    }
   ],
   "source": [
    "print(np.linspace(0, 1, 10))"
   ]
  }
 ],
 "metadata": {
  "kernelspec": {
   "display_name": "d",
   "language": "python",
   "name": "python3"
  },
  "language_info": {
   "codemirror_mode": {
    "name": "ipython",
    "version": 3
   },
   "file_extension": ".py",
   "mimetype": "text/x-python",
   "name": "python",
   "nbconvert_exporter": "python",
   "pygments_lexer": "ipython3",
   "version": "3.7.12"
  },
  "orig_nbformat": 4,
  "vscode": {
   "interpreter": {
    "hash": "e710dce77f62bef54a2664f133b2c2b99dc2d4720139c512b04a4c2db99b434f"
   }
  }
 },
 "nbformat": 4,
 "nbformat_minor": 2
}
